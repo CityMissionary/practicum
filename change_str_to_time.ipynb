{
 "cells": [
  {
   "cell_type": "code",
   "execution_count": 2,
   "metadata": {},
   "outputs": [],
   "source": [
    "\n",
    "import pandas as pd\n",
    "import datetime\n",
    "\n",
    "data=pd.read_csv(\"E:\\\\data\\\\Globle.csv\")\n",
    "data[\"FILING_DATE\"]=data[\"FILING_DATE\"].apply(lambda x: datetime.datetime.strptime(x,\"%m/%d/%Y\"))\n",
    "data[\"MODIFIED_AT\"]=data[\"MODIFIED_AT\"].apply(lambda x: datetime.datetime.strptime(x,\"%m/%d/%Y %H:%M\"))\n",
    "data.to_csv(\"E:\\\\data\\\\Globle_change.csv\",sep=\",\",header=True)"
   ]
  }
 ],
 "metadata": {
  "kernelspec": {
   "display_name": "practicum",
   "language": "python",
   "name": "python3"
  },
  "language_info": {
   "codemirror_mode": {
    "name": "ipython",
    "version": 3
   },
   "file_extension": ".py",
   "mimetype": "text/x-python",
   "name": "python",
   "nbconvert_exporter": "python",
   "pygments_lexer": "ipython3",
   "version": "3.7.9"
  },
  "orig_nbformat": 4,
  "vscode": {
   "interpreter": {
    "hash": "e3e98d5f956c394c058448dea59b0542e2791614d79d89dd6218c183f95136fb"
   }
  }
 },
 "nbformat": 4,
 "nbformat_minor": 2
}
